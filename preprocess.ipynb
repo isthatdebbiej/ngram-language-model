{
 "cells": [
  {
   "cell_type": "markdown",
   "metadata": {},
   "source": []
  },
  {
   "cell_type": "code",
   "execution_count": 1,
   "metadata": {},
   "outputs": [],
   "source": [
    "import nltk\n",
    "\n"
   ]
  },
  {
   "cell_type": "code",
   "execution_count": 2,
   "metadata": {},
   "outputs": [],
   "source": [
    "SOS = \"<s> \"\n",
    "EOS = \"</s>\"\n",
    "UNK = \"<UNK>\""
   ]
  },
  {
   "cell_type": "markdown",
   "metadata": {},
   "source": [
    "Wrap each sentence in SOS and EOS tokens.(ex- <s> This is a sentence. </s>)\n",
    "Agrs: sentences( list of str) are the sentences we are going to wrap. \n",
    "      n is the order of n-gram model which would be in use.\n",
    "Returns: List of sentences with SOS and EOS wrapped around them.\n",
    "\n",
    "For n >= 2, n-1 SOS tokens are added, otherwise only one is added.\n",
    "    \n"
   ]
  },
  {
   "cell_type": "code",
   "execution_count": 6,
   "metadata": {},
   "outputs": [],
   "source": [
    "def add_sentence_tokens(sentences,n):\n",
    "    sos=SOS*n-1 if n>=2 else SOS\n",
    "    return [f'{sos}{s} {EOS}' for s in sentences]"
   ]
  },
  {
   "cell_type": "markdown",
   "metadata": {},
   "source": [
    "Replace the words that appear only ones in the corpus with <UNK>\n",
    "Arg: tokens\n",
    "Return:tokens with <UNK>"
   ]
  },
  {
   "cell_type": "code",
   "execution_count": 7,
   "metadata": {},
   "outputs": [],
   "source": [
    "def replace_singleton(tokens):\n",
    "    vocab=nltk.FreqDist(token)\n",
    "    return [token if vocab[token]>1 else UNK for token in tokens]"
   ]
  },
  {
   "cell_type": "markdown",
   "metadata": {},
   "source": [
    "Add SOS/EOS/UNK to the sentences and tokenize"
   ]
  },
  {
   "cell_type": "code",
   "execution_count": 8,
   "metadata": {},
   "outputs": [],
   "source": [
    "def preprocess(sentences,n):\n",
    "    sentences=add_sentence_tokens(sentences,n)\n",
    "    tokens=''.join.sentences.split(' ')\n",
    "    tokens=replace_singleton(tokens)\n",
    "    return token"
   ]
  }
 ],
 "metadata": {
  "kernelspec": {
   "display_name": "Python 3",
   "language": "python",
   "name": "python3"
  },
  "language_info": {
   "codemirror_mode": {
    "name": "ipython",
    "version": 3
   },
   "file_extension": ".py",
   "mimetype": "text/x-python",
   "name": "python",
   "nbconvert_exporter": "python",
   "pygments_lexer": "ipython3",
   "version": "3.7.4"
  }
 },
 "nbformat": 4,
 "nbformat_minor": 2
}
